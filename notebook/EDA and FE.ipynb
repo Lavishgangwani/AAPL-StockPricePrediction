{
 "cells": [
  {
   "cell_type": "code",
   "execution_count": 2,
   "metadata": {},
   "outputs": [
    {
     "name": "stdout",
     "output_type": "stream",
     "text": [
      "G:\\StockPricePrediction\\venv\\python.exe\n",
      "G:\\StockPricePrediction\\venv\n"
     ]
    }
   ],
   "source": [
    "import sys\n",
    "print(sys.executable)\n",
    "print(sys.prefix)"
   ]
  },
  {
   "cell_type": "markdown",
   "metadata": {},
   "source": [
    "## Key Columns in Stock Market Data\n",
    "1. Date: The trading date.\n",
    "\n",
    "    - Interpretation: This is the timestamp for the data point. It helps to sequence the data chronologically.\n",
    "2. Open: The price at which the stock started trading when the market opened.\n",
    "\n",
    "    - Interpretation: Indicates the starting price for a given day. It can be compared with the closing price to see how the stock moved during the day.\n",
    "3. High: The highest price at which the stock traded during the day.\n",
    "\n",
    "    - Interpretation: Useful for understanding the peak price within a day. It can signal volatility or strong buying interest at higher prices.\n",
    "4. Low: The lowest price at which the stock traded during the day.\n",
    "\n",
    "    - Interpretation: Indicates the lowest point of the stock’s price within the day. It helps to understand the range of price movement.\n",
    "5. Close: The price at which the stock closed at the end of the trading day.\n",
    "\n",
    "    - Interpretation: This is the most commonly used price for prediction as it reflects the final price of the day after all trading has occurred.\n",
    "6. Adj Close: The adjusted closing price, which accounts for any corporate actions like dividends, stock splits, etc.\n",
    "\n",
    "    - Interpretation: This gives a more accurate reflection of the stock’s value over time, especially if there are corporate actions that affect the stock price.\n",
    "7. Volume: The number of shares traded during the day.\n",
    "\n",
    "    - Interpretation: High volume indicates strong interest and liquidity, whereas low volume might indicate less interest or potential price manipulation.\n",
    "## How to Use These Columns for Prediction\n",
    "\n",
    "- Open, High, Low, Close, and Adj Close: These can be used to understand the price movement and calculate various technical indicators.\n",
    "1. Volume: Important for gauging market interest and the potential for significant price movements.\n",
    "\n",
    "## Feature Engineering for Stock Price Prediction\n",
    "1. Moving Averages: Averages of closing prices over specific periods (e.g., 10-day, 50-day).\n",
    "\n",
    "    - Interpretation: Smooths out price data to identify trends. For example, a 10-day moving average can show short-term trends, while a 50-day moving average can show longer-term trends.\n",
    "2. Daily Returns: The percentage change in closing price from one day to the next.\n",
    "\n",
    "    - Formula: (Close[i] - Close[i-1]) / Close[i-1]\n",
    "    - Interpretation: Measures daily price movement. Helps to understand volatility.\n",
    "3. Exponential Moving Averages (EMA): Similar to moving averages but gives more weight to recent prices.\n",
    "\n",
    "    - Interpretation: Useful for capturing more current trends.\n",
    "4. Technical Indicators:\n",
    "\n",
    "    - Relative Strength Index (RSI): Measures the speed and change of price movements.\n",
    "    - Interpretation: Values above 70 indicate overbought conditions, and values below 30 indicate oversold conditions.\n",
    "5. Moving Average Convergence Divergence (MACD): Shows the relationship between two EMAs.\n",
    "    - Interpretation: Used to identify potential buy and sell signals"
   ]
  },
  {
   "cell_type": "code",
   "execution_count": 3,
   "metadata": {},
   "outputs": [],
   "source": [
    "import numpy as np\n",
    "import pandas as pd\n",
    "import yfinance as yf"
   ]
  },
  {
   "cell_type": "code",
   "execution_count": 4,
   "metadata": {},
   "outputs": [
    {
     "name": "stderr",
     "output_type": "stream",
     "text": [
      "[*********************100%%**********************]  1 of 1 completed\n"
     ]
    }
   ],
   "source": [
    "# Download stock data for Apple (AAPL)\n",
    "data = yf.download('AAPL', start='2010-01-01', end='2023-01-01')"
   ]
  },
  {
   "cell_type": "code",
   "execution_count": 5,
   "metadata": {},
   "outputs": [],
   "source": [
    "#saving the dataset\n",
    "data.to_csv('data/AAPL_stock_dataset.csv' , index=False)"
   ]
  },
  {
   "cell_type": "code",
   "execution_count": 7,
   "metadata": {},
   "outputs": [
    {
     "data": {
      "text/html": [
       "<div>\n",
       "<style scoped>\n",
       "    .dataframe tbody tr th:only-of-type {\n",
       "        vertical-align: middle;\n",
       "    }\n",
       "\n",
       "    .dataframe tbody tr th {\n",
       "        vertical-align: top;\n",
       "    }\n",
       "\n",
       "    .dataframe thead th {\n",
       "        text-align: right;\n",
       "    }\n",
       "</style>\n",
       "<table border=\"1\" class=\"dataframe\">\n",
       "  <thead>\n",
       "    <tr style=\"text-align: right;\">\n",
       "      <th></th>\n",
       "      <th>Open</th>\n",
       "      <th>High</th>\n",
       "      <th>Low</th>\n",
       "      <th>Close</th>\n",
       "      <th>Adj Close</th>\n",
       "      <th>Volume</th>\n",
       "    </tr>\n",
       "  </thead>\n",
       "  <tbody>\n",
       "    <tr>\n",
       "      <th>0</th>\n",
       "      <td>7.622500</td>\n",
       "      <td>7.660714</td>\n",
       "      <td>7.585000</td>\n",
       "      <td>7.643214</td>\n",
       "      <td>6.461977</td>\n",
       "      <td>493729600</td>\n",
       "    </tr>\n",
       "    <tr>\n",
       "      <th>1</th>\n",
       "      <td>7.664286</td>\n",
       "      <td>7.699643</td>\n",
       "      <td>7.616071</td>\n",
       "      <td>7.656429</td>\n",
       "      <td>6.473148</td>\n",
       "      <td>601904800</td>\n",
       "    </tr>\n",
       "    <tr>\n",
       "      <th>2</th>\n",
       "      <td>7.656429</td>\n",
       "      <td>7.686786</td>\n",
       "      <td>7.526786</td>\n",
       "      <td>7.534643</td>\n",
       "      <td>6.370184</td>\n",
       "      <td>552160000</td>\n",
       "    </tr>\n",
       "    <tr>\n",
       "      <th>3</th>\n",
       "      <td>7.562500</td>\n",
       "      <td>7.571429</td>\n",
       "      <td>7.466071</td>\n",
       "      <td>7.520714</td>\n",
       "      <td>6.358407</td>\n",
       "      <td>477131200</td>\n",
       "    </tr>\n",
       "    <tr>\n",
       "      <th>4</th>\n",
       "      <td>7.510714</td>\n",
       "      <td>7.571429</td>\n",
       "      <td>7.466429</td>\n",
       "      <td>7.570714</td>\n",
       "      <td>6.400679</td>\n",
       "      <td>447610800</td>\n",
       "    </tr>\n",
       "    <tr>\n",
       "      <th>...</th>\n",
       "      <td>...</td>\n",
       "      <td>...</td>\n",
       "      <td>...</td>\n",
       "      <td>...</td>\n",
       "      <td>...</td>\n",
       "      <td>...</td>\n",
       "    </tr>\n",
       "    <tr>\n",
       "      <th>3267</th>\n",
       "      <td>130.919998</td>\n",
       "      <td>132.419998</td>\n",
       "      <td>129.639999</td>\n",
       "      <td>131.860001</td>\n",
       "      <td>130.782578</td>\n",
       "      <td>63814900</td>\n",
       "    </tr>\n",
       "    <tr>\n",
       "      <th>3268</th>\n",
       "      <td>131.380005</td>\n",
       "      <td>131.410004</td>\n",
       "      <td>128.720001</td>\n",
       "      <td>130.029999</td>\n",
       "      <td>128.967514</td>\n",
       "      <td>69007800</td>\n",
       "    </tr>\n",
       "    <tr>\n",
       "      <th>3269</th>\n",
       "      <td>129.669998</td>\n",
       "      <td>131.029999</td>\n",
       "      <td>125.870003</td>\n",
       "      <td>126.040001</td>\n",
       "      <td>125.010124</td>\n",
       "      <td>85438400</td>\n",
       "    </tr>\n",
       "    <tr>\n",
       "      <th>3270</th>\n",
       "      <td>127.989998</td>\n",
       "      <td>130.479996</td>\n",
       "      <td>127.730003</td>\n",
       "      <td>129.610001</td>\n",
       "      <td>128.550949</td>\n",
       "      <td>75703700</td>\n",
       "    </tr>\n",
       "    <tr>\n",
       "      <th>3271</th>\n",
       "      <td>128.410004</td>\n",
       "      <td>129.949997</td>\n",
       "      <td>127.430000</td>\n",
       "      <td>129.929993</td>\n",
       "      <td>128.868332</td>\n",
       "      <td>77034200</td>\n",
       "    </tr>\n",
       "  </tbody>\n",
       "</table>\n",
       "<p>3272 rows × 6 columns</p>\n",
       "</div>"
      ],
      "text/plain": [
       "            Open        High         Low       Close   Adj Close     Volume\n",
       "0       7.622500    7.660714    7.585000    7.643214    6.461977  493729600\n",
       "1       7.664286    7.699643    7.616071    7.656429    6.473148  601904800\n",
       "2       7.656429    7.686786    7.526786    7.534643    6.370184  552160000\n",
       "3       7.562500    7.571429    7.466071    7.520714    6.358407  477131200\n",
       "4       7.510714    7.571429    7.466429    7.570714    6.400679  447610800\n",
       "...          ...         ...         ...         ...         ...        ...\n",
       "3267  130.919998  132.419998  129.639999  131.860001  130.782578   63814900\n",
       "3268  131.380005  131.410004  128.720001  130.029999  128.967514   69007800\n",
       "3269  129.669998  131.029999  125.870003  126.040001  125.010124   85438400\n",
       "3270  127.989998  130.479996  127.730003  129.610001  128.550949   75703700\n",
       "3271  128.410004  129.949997  127.430000  129.929993  128.868332   77034200\n",
       "\n",
       "[3272 rows x 6 columns]"
      ]
     },
     "execution_count": 7,
     "metadata": {},
     "output_type": "execute_result"
    }
   ],
   "source": [
    "#load dataset\n",
    "df = pd.read_csv('data/AAPL_stock_dataset.csv' , parse_dates=True)\n",
    "df"
   ]
  },
  {
   "cell_type": "code",
   "execution_count": 9,
   "metadata": {},
   "outputs": [
    {
     "name": "stdout",
     "output_type": "stream",
     "text": [
      "<class 'pandas.core.frame.DataFrame'>\n",
      "RangeIndex: 3272 entries, 0 to 3271\n",
      "Data columns (total 6 columns):\n",
      " #   Column     Non-Null Count  Dtype  \n",
      "---  ------     --------------  -----  \n",
      " 0   Open       3272 non-null   float64\n",
      " 1   High       3272 non-null   float64\n",
      " 2   Low        3272 non-null   float64\n",
      " 3   Close      3272 non-null   float64\n",
      " 4   Adj Close  3272 non-null   float64\n",
      " 5   Volume     3272 non-null   int64  \n",
      "dtypes: float64(5), int64(1)\n",
      "memory usage: 153.5 KB\n"
     ]
    }
   ],
   "source": [
    "df.info()"
   ]
  },
  {
   "cell_type": "code",
   "execution_count": null,
   "metadata": {},
   "outputs": [],
   "source": []
  }
 ],
 "metadata": {
  "kernelspec": {
   "display_name": "Python 3 (ipykernel)",
   "language": "python",
   "name": "python3"
  },
  "language_info": {
   "codemirror_mode": {
    "name": "ipython",
    "version": 3
   },
   "file_extension": ".py",
   "mimetype": "text/x-python",
   "name": "python",
   "nbconvert_exporter": "python",
   "pygments_lexer": "ipython3",
   "version": "3.11.0"
  },
  "widgets": {
   "application/vnd.jupyter.widget-state+json": {
    "state": {},
    "version_major": 2,
    "version_minor": 0
   }
  }
 },
 "nbformat": 4,
 "nbformat_minor": 4
}
